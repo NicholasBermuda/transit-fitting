{
 "cells": [
  {
   "cell_type": "code",
   "execution_count": 2,
   "metadata": {
    "collapsed": true
   },
   "outputs": [],
   "source": [
    "%matplotlib inline\n",
    "\n",
    "import matplotlib.pyplot as plt\n",
    "import numpy as np\n",
    "import pandas as pd\n",
    "\n",
    "import re\n",
    "\n",
    "import kplr"
   ]
  },
  {
   "cell_type": "code",
   "execution_count": 3,
   "metadata": {
    "collapsed": true
   },
   "outputs": [],
   "source": [
    "def all_LCdata(koi, mask_bad=True):\n",
    "    df = pd.DataFrame()\n",
    "    for lc in koi.get_light_curves():\n",
    "        if re.search('_llc\\.fits', lc.filename):\n",
    "            newdf = lc.data\n",
    "            newdf['PDCSAP_FLUX'] /= newdf['PDCSAP_FLUX'].mean()\n",
    "            df = pd.concat([df, newdf])\n",
    "            \n",
    "    if mask_bad:\n",
    "        ok = np.isfinite(df['PDCSAP_FLUX']) & (df['SAP_QUALITY']==0)\n",
    "    return df[ok]"
   ]
  },
  {
   "cell_type": "code",
   "execution_count": 4,
   "metadata": {
    "collapsed": true
   },
   "outputs": [],
   "source": [
    "client = kplr.API()\n",
    "koi = client.koi(1422.01)\n",
    "lcdata = all_LCdata(koi)"
   ]
  },
  {
   "cell_type": "code",
   "execution_count": 5,
   "metadata": {
    "collapsed": false
   },
   "outputs": [
    {
     "data": {
      "text/plain": [
       "Index([u'TIME', u'TIMECORR', u'CADENCENO', u'SAP_FLUX', u'SAP_FLUX_ERR', u'SAP_BKG', u'SAP_BKG_ERR', u'PDCSAP_FLUX', u'PDCSAP_FLUX_ERR', u'SAP_QUALITY', u'PSF_CENTR1', u'PSF_CENTR1_ERR', u'PSF_CENTR2', u'PSF_CENTR2_ERR', u'MOM_CENTR1', u'MOM_CENTR1_ERR', u'MOM_CENTR2', u'MOM_CENTR2_ERR', u'POS_CORR1', u'POS_CORR2'], dtype='object')"
      ]
     },
     "execution_count": 5,
     "metadata": {},
     "output_type": "execute_result"
    }
   ],
   "source": [
    "lcdata.columns"
   ]
  },
  {
   "cell_type": "code",
   "execution_count": 6,
   "metadata": {
    "collapsed": false
   },
   "outputs": [],
   "source": [
    "period = koi.koi_period\n",
    "epoch = koi.koi_time0bk\n",
    "duration = koi.koi_duration\n",
    "tfold = (lcdata['TIME'] + period/2 - epoch) % period - (period/2)\n",
    "\n",
    "close = np.absolute(tfold) < 3*(duration/24)\n",
    "\n",
    "flux = lcdata['PDCSAP_FLUX']\n",
    "e_flux = lcdata['PDCSAP_FLUX_ERR']"
   ]
  },
  {
   "cell_type": "code",
   "execution_count": 40,
   "metadata": {
    "collapsed": false
   },
   "outputs": [],
   "source": [
    "from transit import Central, System, Body\n",
    "\n",
    "KEPLER_CADENCE = 1626./86400\n",
    "\n",
    "class TransitModel(object):\n",
    "    \"\"\"Object holding time/flux data allowing for simple transit fitting\n",
    "    \n",
    "    period, epoch are approximate guesses for the period/epoch\n",
    "    of each planet in the system (should be the same length)\n",
    "    \"\"\"\n",
    "    def __init__(self, time, flux, flux_err=0.0001,\n",
    "                 period=None, epoch=None, \n",
    "                 texp=KEPLER_CADENCE):\n",
    "        self.time = time\n",
    "        self.flux = flux\n",
    "        self.flux_err = flux_err\n",
    "        self.texp = texp\n",
    "        \n",
    "        if period is None:\n",
    "            period = []\n",
    "        if epoch is None:\n",
    "            epoch = []\n",
    "        \n",
    "        if type(period)==float:\n",
    "            period = [period]\n",
    "        if type(epoch)==float:\n",
    "            epoch = [epoch]\n",
    "        \n",
    "        assert len(period)==len(epoch)\n",
    "\n",
    "        self.period = period\n",
    "        self.epoch = epoch\n",
    "        \n",
    "    @property\n",
    "    def n_planets(self):\n",
    "        return len(self.period)\n",
    "        \n",
    "    def add_planet(self, period, epoch):\n",
    "        self.period.append(period)\n",
    "        self.epoch.append(epoch)\n",
    "        \n",
    "    def light_curve(self, p, t):\n",
    "        \"\"\"\n",
    "        params: [rhostar, u1, u2, dilution, [period, epoch, b, rprs, e, w]*nplanets]\n",
    "\n",
    "        \"\"\"\n",
    "        if self.n_planets==0:\n",
    "            raise ValueError('Must add planet before evaluating light curve')\n",
    "        rhostar, u1, u2, dilution = p[:4]\n",
    "        \n",
    "        central = Central(mu1=u1, mu2=u2)\n",
    "        central.density = rhostar\n",
    "        s = System(central)\n",
    "        \n",
    "        tot = 0\n",
    "        for i in range(self.n_planets):\n",
    "            period, epoch, b, rprs, e, w = p[4+i*6:10+i*6]\n",
    "            r = central.radius * rprs\n",
    "            body = Body(flux=0, r=r, mass=0, period=period, t0=epoch,\n",
    "                       e=e, pomega=0.5*np.pi-w, b=b)\n",
    "            s.add_body(body)\n",
    "        \n",
    "        return s.light_curve(t, texp=self.texp)\n",
    "        \n",
    "    def lnlike(self, p):\n",
    "        flux_model = self.light_curve(p, self.time)\n",
    "        return -0.5 * (flux_model - self.flux)**2 / self.flux_err**2\n",
    "    \n",
    "        "
   ]
  },
  {
   "cell_type": "code",
   "execution_count": 41,
   "metadata": {
    "collapsed": false
   },
   "outputs": [
    {
     "data": {
      "text/plain": [
       "0.037524"
      ]
     },
     "execution_count": 41,
     "metadata": {},
     "output_type": "execute_result"
    }
   ],
   "source": [
    "koi.koi_ror"
   ]
  },
  {
   "cell_type": "code",
   "execution_count": 42,
   "metadata": {
    "collapsed": true
   },
   "outputs": [],
   "source": [
    "model = TransitModel(lcdata['TIME'], lcdata['PDCSAP_FLUX'], lcdata['PDCSAP_FLUX_ERR'],\n",
    "                    period=period, epoch=epoch)\n"
   ]
  },
  {
   "cell_type": "code",
   "execution_count": 56,
   "metadata": {
    "collapsed": true
   },
   "outputs": [],
   "source": [
    "params = [koi.koi_srho, 0.5, 0.5, 0, period, 0, 0, koi.koi_ror, 0, 0]"
   ]
  },
  {
   "cell_type": "code",
   "execution_count": 58,
   "metadata": {
    "collapsed": false
   },
   "outputs": [
    {
     "data": {
      "image/png": "[encoded data removed]",
      "text/plain": [
       "<matplotlib.figure.Figure at 0x10a8ce4d0>"
      ]
     },
     "metadata": {},
     "output_type": "display_data"
    }
   ],
   "source": [
    "plt.plot(tfold[close], flux[close], 'o', ms=0.2, alpha=0.35);\n",
    "t = np.arange(-0.2, 0.2, KEPLER_CADENCE)\n",
    "f = model.light_curve(params, t)\n",
    "plt.plot(t, f, 'ro');"
   ]
  },
  {
   "cell_type": "code",
   "execution_count": 48,
   "metadata": {
    "collapsed": false
   },
   "outputs": [
    {
     "data": {
      "text/plain": [
       "array([ 1.        ,  1.        ,  1.        ,  1.        ,  1.        ,\n",
       "        1.        ,  1.        ,  1.        ,  0.99951293,  0.99839263,\n",
       "        0.99815823,  0.99813884,  0.998298  ,  0.9991491 ,  1.        ,\n",
       "        1.        ,  1.        ,  1.        ,  1.        ,  1.        ,\n",
       "        1.        ,  1.        ])"
      ]
     },
     "execution_count": 48,
     "metadata": {},
     "output_type": "execute_result"
    }
   ],
   "source": [
    "f"
   ]
  },
  {
   "cell_type": "code",
   "execution_count": null,
   "metadata": {
    "collapsed": true
   },
   "outputs": [],
   "source": []
  }
 ],
 "metadata": {
  "kernelspec": {
   "display_name": "Python 2",
   "language": "python",
   "name": "python2"
  },
  "language_info": {
   "codemirror_mode": {
    "name": "ipython",
    "version": 2
   },
   "file_extension": ".py",
   "mimetype": "text/x-python",
   "name": "python",
   "nbconvert_exporter": "python",
   "pygments_lexer": "ipython2",
   "version": "2.7.10"
  }
 },
 "nbformat": 4,
 "nbformat_minor": 0
}
